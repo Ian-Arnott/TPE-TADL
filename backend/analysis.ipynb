{
 "cells": [
  {
   "cell_type": "code",
   "execution_count": 12,
   "id": "2e6cbbd9",
   "metadata": {},
   "outputs": [],
   "source": [
    "import sqlite3\n",
    "import pandas as pd\n",
    "import seaborn as sns\n",
    "import matplotlib.pyplot as plt\n"
   ]
  },
  {
   "cell_type": "code",
   "execution_count": 13,
   "id": "3b13a1d2",
   "metadata": {},
   "outputs": [],
   "source": [
    "projects = [\n",
    "    \"UX_OPENAI_REFACTOR\",\n",
    "    # \"ITBA_NEW_AUTHENTICATION_SERVER\",\n",
    "    # \"TADL_RAG_SECRET_PROJECT\"\n",
    "]\n"
   ]
  },
  {
   "cell_type": "code",
   "execution_count": 9,
   "id": "6ccf19fb",
   "metadata": {},
   "outputs": [
    {
     "name": "stdout",
     "output_type": "stream",
     "text": [
      "Report created for project: UX_OPENAI_REFACTOR\n"
     ]
    }
   ],
   "source": [
    "import requests\n",
    "\n",
    "# Define server URL (change if not running locally)\n",
    "SERVER_URL = \"http://localhost:8000\"  # Update if different\n",
    "\n",
    "# Report creation loop using API\n",
    "for project in projects:\n",
    "    title = f\"Report for {project}\"\n",
    "    prompt = \"Crear un informe sobre el proyecto.\"\n",
    "    files = [project]\n",
    "\n",
    "    data = {\n",
    "        \"title\": title,\n",
    "        \"prompt\": prompt,\n",
    "        \"files\": files\n",
    "    }\n",
    "\n",
    "    try:\n",
    "        response = requests.post(f\"{SERVER_URL}/reports/generate\", json=data)\n",
    "        response.raise_for_status()\n",
    "        print(f\"Report created for project: {project}\")\n",
    "    except requests.RequestException as e:\n",
    "        print(f\"Error generating report for {project}: {e}\")\n"
   ]
  },
  {
   "cell_type": "code",
   "execution_count": null,
   "id": "2b1f71dd",
   "metadata": {},
   "outputs": [],
   "source": [
    "conn = sqlite3.connect('reports.db')\n",
    "\n",
    "query = \"\"\"\n",
    "SELECT context_precision, answer_relevancy, faithfulness\n",
    "FROM reports\n",
    "\"\"\"\n",
    "df = pd.read_sql_query(query, conn)\n",
    "\n",
    "conn.close()\n",
    "\n"
   ]
  },
  {
   "cell_type": "code",
   "execution_count": null,
   "id": "99590f42",
   "metadata": {},
   "outputs": [],
   "source": [
    "cols = ['context_precision', 'answer_relevancy', 'faithfulness']\n",
    "df[cols] = df[cols].apply(pd.to_numeric, errors='coerce')\n",
    "df.dropna(subset=cols, inplace=True)\n",
    "\n",
    "plt.figure(figsize=(15, 5))\n",
    "for i, col in enumerate(cols):\n",
    "    plt.subplot(1, 3, i + 1)\n",
    "    sns.histplot(df[col], kde=True, bins=20, color='skyblue')\n",
    "    plt.title(f'Distribution of {col}')\n",
    "    plt.xlabel(col)\n",
    "    plt.ylabel('Frequency')\n",
    "\n",
    "plt.tight_layout()\n",
    "plt.show()"
   ]
  }
 ],
 "metadata": {
  "kernelspec": {
   "display_name": ".venv",
   "language": "python",
   "name": "python3"
  },
  "language_info": {
   "codemirror_mode": {
    "name": "ipython",
    "version": 3
   },
   "file_extension": ".py",
   "mimetype": "text/x-python",
   "name": "python",
   "nbconvert_exporter": "python",
   "pygments_lexer": "ipython3",
   "version": "3.9.6"
  }
 },
 "nbformat": 4,
 "nbformat_minor": 5
}
